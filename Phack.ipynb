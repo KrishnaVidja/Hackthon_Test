{
 "cells": [
  {
   "cell_type": "code",
   "execution_count": 1,
   "id": "6d0e6f79",
   "metadata": {},
   "outputs": [
    {
     "data": {
      "text/plain": [
       "'This is krishna again'"
      ]
     },
     "execution_count": 1,
     "metadata": {},
     "output_type": "execute_result"
    }
   ],
   "source": [
    "\"This is krishna again\""
   ]
  },
  {
   "cell_type": "code",
   "execution_count": 1,
   "id": "b3ec8c5f",
   "metadata": {},
   "outputs": [
    {
     "data": {
      "text/plain": [
       "'This is Priyanka'"
      ]
     },
     "execution_count": 1,
     "metadata": {},
     "output_type": "execute_result"
    }
   ],
   "source": [
    "\"This is Priyanka\""
   ]
  },
  {
   "cell_type": "code",
   "execution_count": 1,
   "id": "6bfa2158",
   "metadata": {},
   "outputs": [
    {
     "data": {
      "text/plain": [
       "'This is Deepa'"
      ]
     },
     "execution_count": 1,
     "metadata": {},
     "output_type": "execute_result"
    }
   ],
   "source": [
    "\"This is Deepa\"\n"
   ]
  },
  {
   "cell_type": "code",
   "execution_count": 1,
   "id": "concrete-processor",
   "metadata": {},
   "outputs": [
    {
     "data": {
      "text/plain": [
       "'This is Renuga'"
      ]
     },
     "execution_count": 1,
     "metadata": {},
     "output_type": "execute_result"
    }
   ],
   "source": [
    "\"This is Renuga\""
   ]
  },
  {
   "cell_type": "code",
   "execution_count": 1,
   "id": "2f8c45f1",
   "metadata": {},
   "outputs": [
    {
     "data": {
      "text/plain": [
       "'This is Durga'"
      ]
     },
     "execution_count": 1,
     "metadata": {},
     "output_type": "execute_result"
    }
   ],
   "source": [
    "\"This is Durga\""
   ]
  },
  {
   "cell_type": "code",
   "execution_count": null,
   "id": "37016bef",
   "metadata": {},
   "outputs": [],
   "source": []
  }
 ],
 "metadata": {
  "kernelspec": {
   "display_name": "Python 3 (ipykernel)",
   "language": "python",
   "name": "python3"
  },
  "language_info": {
   "codemirror_mode": {
    "name": "ipython",
    "version": 3
   },
   "file_extension": ".py",
   "mimetype": "text/x-python",
   "name": "python",
   "nbconvert_exporter": "python",
   "pygments_lexer": "ipython3",
   "version": "3.9.7"
  }
 },
 "nbformat": 4,
 "nbformat_minor": 5
}
