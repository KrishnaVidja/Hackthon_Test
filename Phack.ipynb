{
 "cells": [
  {
   "cell_type": "code",
   "execution_count": 1,
   "id": "6d0e6f79",
   "metadata": {},
   "outputs": [
    {
     "data": {
      "text/plain": [
       "'This is krishna again'"
      ]
     },
     "execution_count": 1,
     "metadata": {},
     "output_type": "execute_result"
    }
   ],
   "source": [
    "\"This is krishna again\""
   ]
  },
  {
   "cell_type": "code",
   "execution_count": 1,
   "id": "b3ec8c5f",
   "metadata": {},
   "outputs": [
    {
     "data": {
      "text/plain": [
       "'This is Priyanka'"
      ]
     },
     "execution_count": 1,
     "metadata": {},
     "output_type": "execute_result"
    }
   ],
   "source": [
    "\"This is Priyanka\""
   ]
  },
  {
   "cell_type": "code",
   "execution_count": 1,
   "id": "6bfa2158",
   "metadata": {},
   "outputs": [
    {
     "data": {
      "text/plain": [
       "'This is Deepa'"
      ]
     },
     "execution_count": 1,
     "metadata": {},
     "output_type": "execute_result"
    }
   ],
   "source": [
    "\"This is Deepa\"\n"
   ]
  },
  {
   "cell_type": "code",
   "execution_count": null,
   "id": "concrete-processor",
   "metadata": {},
   "outputs": [],
   "source": []
  }
 ],
 "metadata": {
  "kernelspec": {
   "display_name": "Python 3",
   "language": "python",
   "name": "python3"
  },
  "language_info": {
   "codemirror_mode": {
    "name": "ipython",
    "version": 3
   },
   "file_extension": ".py",
   "mimetype": "text/x-python",
   "name": "python",
   "nbconvert_exporter": "python",
   "pygments_lexer": "ipython3",
   "version": "3.7.6"
  }
 },
 "nbformat": 4,
 "nbformat_minor": 5
}
