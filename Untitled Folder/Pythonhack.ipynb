{
 "cells": [
  {
   "cell_type": "code",
   "execution_count": 1,
   "id": "e2ae7a98",
   "metadata": {},
   "outputs": [
    {
     "data": {
      "text/plain": [
       "'This is Krishna'"
      ]
     },
     "execution_count": 1,
     "metadata": {},
     "output_type": "execute_result"
    }
   ],
   "source": [
    "\"This is Krishna\""
   ]
  },
  {
   "cell_type": "code",
   "execution_count": null,
   "id": "f821d19a",
   "metadata": {},
   "outputs": [],
   "source": []
  }
 ],
 "metadata": {
  "kernelspec": {
   "display_name": "Python 3 (ipykernel)",
   "language": "python",
   "name": "python3"
  },
  "language_info": {
   "codemirror_mode": {
    "name": "ipython",
    "version": 3
   },
   "file_extension": ".py",
   "mimetype": "text/x-python",
   "name": "python",
   "nbconvert_exporter": "python",
   "pygments_lexer": "ipython3",
   "version": "3.9.12"
  }
 },
 "nbformat": 4,
 "nbformat_minor": 5
}
